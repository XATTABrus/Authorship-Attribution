{
 "cells": [
  {
   "cell_type": "code",
   "execution_count": null,
   "metadata": {
    "colab": {
     "autoexec": {
      "startup": false,
      "wait_interval": 0
     },
     "base_uri": "https://localhost:8080/",
     "height": 34
    },
    "colab_type": "code",
    "executionInfo": {
     "elapsed": 1655,
     "status": "ok",
     "timestamp": 1524416723849,
     "user": {
      "displayName": "Юрий Дмитрин",
      "photoUrl": "//lh4.googleusercontent.com/-OyXBC6FvjsM/AAAAAAAAAAI/AAAAAAAAAHQ/G_KKDlyImEA/s50-c-k-no/photo.jpg",
      "userId": "103309059520130834698"
     },
     "user_tz": -300
    },
    "id": "CKGApMu7oy4v",
    "outputId": "c197241d-3d68-4a10-eda5-187369b920d3"
   },
   "outputs": [],
   "source": [
    "from matplotlib import pyplot as plt\n",
    "from sklearn.preprocessing import LabelEncoder, OneHotEncoder\n",
    "from sklearn.model_selection import train_test_split\n",
    "from keras.preprocessing.text import Tokenizer\n",
    "from keras.models import Sequential\n",
    "from keras.layers import Dense, Activation, Embedding, TimeDistributed, Bidirectional\n",
    "from keras.layers import LSTM, SpatialDropout1D, Conv1D, GlobalMaxPooling1D, MaxPooling1D, Flatten\n",
    "from keras.layers.core import Dropout\n",
    "from keras.callbacks import EarlyStopping\n",
    "from matplotlib import pyplot as plt\n",
    "import numpy as np\n",
    "import pandas as pd\n",
    "import keras\n",
    "import codecs\n",
    "import os\n",
    "\n",
    "%matplotlib inline"
   ]
  },
  {
   "cell_type": "code",
   "execution_count": null,
   "metadata": {
    "colab": {
     "autoexec": {
      "startup": false,
      "wait_interval": 0
     },
     "base_uri": "https://localhost:8080/",
     "height": 34
    },
    "colab_type": "code",
    "executionInfo": {
     "elapsed": 1323,
     "status": "ok",
     "timestamp": 1524416725715,
     "user": {
      "displayName": "Юрий Дмитрин",
      "photoUrl": "//lh4.googleusercontent.com/-OyXBC6FvjsM/AAAAAAAAAAI/AAAAAAAAAHQ/G_KKDlyImEA/s50-c-k-no/photo.jpg",
      "userId": "103309059520130834698"
     },
     "user_tz": -300
    },
    "id": "VTQkL54ozzW7",
    "outputId": "9354a4c3-f8df-4403-9cc4-0cea71c01dc0"
   },
   "outputs": [],
   "source": [
    "import tensorflow as tf\n",
    "tf.test.gpu_device_name()"
   ]
  },
  {
   "cell_type": "code",
   "execution_count": null,
   "metadata": {
    "colab": {
     "autoexec": {
      "startup": false,
      "wait_interval": 0
     }
    },
    "colab_type": "code",
    "collapsed": true,
    "id": "phUvuuPZpAwt"
   },
   "outputs": [],
   "source": [
    "np.random.seed(42)"
   ]
  },
  {
   "cell_type": "code",
   "execution_count": null,
   "metadata": {
    "colab": {
     "autoexec": {
      "startup": false,
      "wait_interval": 0
     }
    },
    "colab_type": "code",
    "collapsed": true,
    "id": "DN7qqn_XIETr"
   },
   "outputs": [],
   "source": [
    "# Загрузка данных в Google Colab\n",
    "from google.colab import auth\n",
    "auth.authenticate_user()\n",
    "\n",
    "from googleapiclient.discovery import build\n",
    "drive_service = build('drive', 'v3')\n",
    "\n",
    "# file_id = '1-f_PhUmFPfWfBXMdf5fAN5aO2o-wsL-_' #Echo\n",
    "file_id = '1xTurzpt1s6hMugJNgCnTgfLBo5YXm0Rd' #VK\n",
    "# file_id = '1QLahcX9SxHL0zyMd48K8cuyNR1pQogyZ' #Habr\n",
    "\n",
    "\n",
    "import io\n",
    "from googleapiclient.http import MediaIoBaseDownload\n",
    "\n",
    "request = drive_service.files().get_media(fileId=file_id)\n",
    "downloaded = io.BytesIO()\n",
    "downloader = MediaIoBaseDownload(downloaded, request)\n",
    "done = False\n",
    "while done is False:\n",
    "  _, done = downloader.next_chunk()\n",
    "downloaded.seek(0)\n",
    "csv_data = downloaded.read()"
   ]
  },
  {
   "cell_type": "code",
   "execution_count": null,
   "metadata": {
    "colab": {
     "autoexec": {
      "startup": false,
      "wait_interval": 0
     }
    },
    "colab_type": "code",
    "collapsed": true,
    "id": "oYcBYiENhMr-"
   },
   "outputs": [],
   "source": [
    "file = io.StringIO(csv_data.decode('utf-8'))"
   ]
  },
  {
   "cell_type": "code",
   "execution_count": null,
   "metadata": {
    "colab": {
     "autoexec": {
      "startup": false,
      "wait_interval": 0
     }
    },
    "colab_type": "code",
    "collapsed": true,
    "id": "LDlUMn5H4O8Y"
   },
   "outputs": [],
   "source": [
    "# Read echo\n",
    "import sys\n",
    "import csv\n",
    "\n",
    "csv.field_size_limit(sys.maxsize)\n",
    "data = pd.read_csv(file, sep='|', engine='python', index_col=0, error_bad_lines=False);"
   ]
  },
  {
   "cell_type": "code",
   "execution_count": null,
   "metadata": {
    "colab": {
     "autoexec": {
      "startup": false,
      "wait_interval": 0
     }
    },
    "colab_type": "code",
    "collapsed": true,
    "id": "aMdT7C6NpDIX"
   },
   "outputs": [],
   "source": [
    "# Read VK\n",
    "data = pd.read_csv(file, names=['Author', 'Text'], sep=',', header=None)"
   ]
  },
  {
   "cell_type": "code",
   "execution_count": null,
   "metadata": {
    "colab": {
     "autoexec": {
      "startup": false,
      "wait_interval": 0
     }
    },
    "colab_type": "code",
    "collapsed": true,
    "id": "5xzRgK-XYBTI"
   },
   "outputs": [],
   "source": [
    "# Read Habrahabr\n",
    "data = pd.read_csv(file)"
   ]
  },
  {
   "cell_type": "code",
   "execution_count": null,
   "metadata": {
    "colab": {
     "autoexec": {
      "startup": false,
      "wait_interval": 0
     },
     "base_uri": "https://localhost:8080/",
     "height": 204
    },
    "colab_type": "code",
    "executionInfo": {
     "elapsed": 624,
     "status": "ok",
     "timestamp": 1524412407148,
     "user": {
      "displayName": "Юрий Дмитрин",
      "photoUrl": "//lh4.googleusercontent.com/-OyXBC6FvjsM/AAAAAAAAAAI/AAAAAAAAAHQ/G_KKDlyImEA/s50-c-k-no/photo.jpg",
      "userId": "103309059520130834698"
     },
     "user_tz": -300
    },
    "id": "xIntpJOtekKu",
    "outputId": "164018c5-1a66-40f8-8a65-67bb521bba70"
   },
   "outputs": [],
   "source": [
    "data.head()"
   ]
  },
  {
   "cell_type": "code",
   "execution_count": null,
   "metadata": {
    "colab": {
     "autoexec": {
      "startup": false,
      "wait_interval": 0
     },
     "base_uri": "https://localhost:8080/",
     "height": 34
    },
    "colab_type": "code",
    "executionInfo": {
     "elapsed": 1494,
     "status": "ok",
     "timestamp": 1524416769249,
     "user": {
      "displayName": "Юрий Дмитрин",
      "photoUrl": "//lh4.googleusercontent.com/-OyXBC6FvjsM/AAAAAAAAAAI/AAAAAAAAAHQ/G_KKDlyImEA/s50-c-k-no/photo.jpg",
      "userId": "103309059520130834698"
     },
     "user_tz": -300
    },
    "id": "wGDyzAeI5IjO",
    "outputId": "afd2d0b9-6930-4ce9-cdb8-13320c455893"
   },
   "outputs": [],
   "source": [
    "data.Text = data.Text.apply(str);\n",
    "data['CountWords'] = data['Text'].map(lambda x: len(x.split()))\n",
    "print('Количество статей в корпусе:', len(data))"
   ]
  },
  {
   "cell_type": "code",
   "execution_count": null,
   "metadata": {
    "colab": {
     "autoexec": {
      "startup": false,
      "wait_interval": 0
     },
     "base_uri": "https://localhost:8080/",
     "height": 34
    },
    "colab_type": "code",
    "executionInfo": {
     "elapsed": 2410,
     "status": "ok",
     "timestamp": 1524416771764,
     "user": {
      "displayName": "Юрий Дмитрин",
      "photoUrl": "//lh4.googleusercontent.com/-OyXBC6FvjsM/AAAAAAAAAAI/AAAAAAAAAHQ/G_KKDlyImEA/s50-c-k-no/photo.jpg",
      "userId": "103309059520130834698"
     },
     "user_tz": -300
    },
    "id": "Uj_xSdaf5XaM",
    "outputId": "21a50818-7c03-43ed-8057-1bbea81fa61b"
   },
   "outputs": [],
   "source": [
    "# Удаление спам пользователей из корпуса VK\n",
    "spam_list = [301557842, 184330667, 191315693, 111604181, 212846761, 278053852, 281162155, 206300456, 306859957, 19006413, 275267400, 131629784, 276695686, 227968805, 65265920, 215657793, 212066696, 281866527, 172515637, 420657548, 259904924, 103086082, 36309849, 151622711, 304407589, 304407589, 234135027, 330779808, 135431520, 326927985, 22070189, 16497456, 22070189, 16497456, 120772826, 181255568, 24655736, 90966607, 102977537, 317336618, 189704404, 11663845, 57439210, 163452787, 38680483, 121144040, 211289578, 280155968, 198528079, 277512341, 33152119, 314327791, 229101154, 271546215, 4121239, 59729051, 288393060, 17620663, 296431137, 320666372, 153340241, 13309210, 333014765, 24595847, 152263680, 135815313, 27763994, 34902711, 200488318, 393710429, 400853612, 18091069, 232368999, 243123251, 159034443, 101820061, 334397479, 36372315, 18412482, 362494239, 98538332, 94983825, 171941220, 35386477, 179364423, 136668179, 57446172, 288223392, 321431512, 277994902, 190694040, 325021098, 129392296, 289027630, 216216545, 75884932, 208023062, 185965346, 2857932, 2574325, 154034429, 312715518, 286913827, 336049060, 163410643, 309938895, 372204020, 400615680, 235441786, 8391421, 136997064, 174934251, 173179778, 134275738, 93070783, 403039516, 326194938, 26960550, 18090797, 15931375, 64401851, 14665799, 223678239, 1963998, 252135842, 16352364, 386230491, 135103805, 335233013, 226605259, 94018354, 363143703, 278775919, 134780377,498638, 498638, 20403116, 824871, 22259914, 203601767, 386435681, 280519165, 225577927, 336493264, 203836012, 250362235, 135154139, 332671406, 296879545, 191398452, 48411613, 276175277, 77459397, 15155303, 6646818, 174692652, 25755928, 145799445, 210213078, 225680585, 167783297, 159347782, 154637631, 343704548, 276329737, 158954181, 7736592, 52430830, 54738353, 181641220, 249065698, 356566757, 12276180, 146475131, 38034256, 301152537, 181250759, 65169740, 229445819, 360098848, 204181735, 311981137, 9365217, 323032519, 144081373, 166471693, 219977388, 3252582, 92645976, 341675206, 394122042, 8469671, 293599275, 150564713, 315874927, 75299334, 395839270, 256327432, 8758868, 234523373, 234523373] \n",
    "print('Count of spam users:', len(spam_list))\n",
    "lam = lambda row: row['Author'] not in spam_list\n",
    "data = data[data.apply(lam, axis=1)]"
   ]
  },
  {
   "cell_type": "code",
   "execution_count": null,
   "metadata": {
    "colab": {
     "autoexec": {
      "startup": false,
      "wait_interval": 0
     },
     "base_uri": "https://localhost:8080/",
     "height": 34
    },
    "colab_type": "code",
    "executionInfo": {
     "elapsed": 616,
     "status": "ok",
     "timestamp": 1524416772474,
     "user": {
      "displayName": "Юрий Дмитрин",
      "photoUrl": "//lh4.googleusercontent.com/-OyXBC6FvjsM/AAAAAAAAAAI/AAAAAAAAAHQ/G_KKDlyImEA/s50-c-k-no/photo.jpg",
      "userId": "103309059520130834698"
     },
     "user_tz": -300
    },
    "id": "fsrbKzF-5ZeU",
    "outputId": "c8ff310e-a94c-403b-ba19-bb6676f4ae00"
   },
   "outputs": [],
   "source": [
    "author_count_news = data.Author.value_counts()\n",
    "print('Количество авторов в корпусе:', len(author_count_news))"
   ]
  },
  {
   "cell_type": "code",
   "execution_count": null,
   "metadata": {
    "colab": {
     "autoexec": {
      "startup": false,
      "wait_interval": 0
     }
    },
    "colab_type": "code",
    "collapsed": true,
    "id": "14sUynxn5fP0"
   },
   "outputs": [],
   "source": [
    "num_classes = 100\n",
    "skip_person = 9\n",
    "author_count_news_dubset = author_count_news[skip_person:skip_person+num_classes]"
   ]
  },
  {
   "cell_type": "code",
   "execution_count": null,
   "metadata": {
    "colab": {
     "autoexec": {
      "startup": false,
      "wait_interval": 0
     },
     "base_uri": "https://localhost:8080/",
     "height": 375
    },
    "colab_type": "code",
    "executionInfo": {
     "elapsed": 2007,
     "status": "ok",
     "timestamp": 1524416775802,
     "user": {
      "displayName": "Юрий Дмитрин",
      "photoUrl": "//lh4.googleusercontent.com/-OyXBC6FvjsM/AAAAAAAAAAI/AAAAAAAAAHQ/G_KKDlyImEA/s50-c-k-no/photo.jpg",
      "userId": "103309059520130834698"
     },
     "user_tz": -300
    },
    "id": "YDCeO-ae5jT-",
    "outputId": "2eac542b-100f-4a66-9d03-1acec3c52a15"
   },
   "outputs": [],
   "source": [
    "author_count_news_dubset.plot(kind='bar', figsize=(15, 5), title=\"Number of author's articles\");"
   ]
  },
  {
   "cell_type": "code",
   "execution_count": null,
   "metadata": {
    "colab": {
     "autoexec": {
      "startup": false,
      "wait_interval": 0
     },
     "base_uri": "https://localhost:8080/",
     "height": 34
    },
    "colab_type": "code",
    "executionInfo": {
     "elapsed": 632,
     "status": "ok",
     "timestamp": 1524416968038,
     "user": {
      "displayName": "Юрий Дмитрин",
      "photoUrl": "//lh4.googleusercontent.com/-OyXBC6FvjsM/AAAAAAAAAAI/AAAAAAAAAHQ/G_KKDlyImEA/s50-c-k-no/photo.jpg",
      "userId": "103309059520130834698"
     },
     "user_tz": -300
    },
    "id": "PeR4YmdN5oX1",
    "outputId": "3c83694c-3770-4e6c-cbb8-548f0f6ec784"
   },
   "outputs": [],
   "source": [
    "temp_data = pd.DataFrame()\n",
    "names_author = author_count_news_dubset.index.values\n",
    "\n",
    "for author in names_author:\n",
    "    temp_data = temp_data.append(data[data.Author == author])\n",
    "\n",
    "data = temp_data\n",
    "print('Количество статей после удаления:', len(data))"
   ]
  },
  {
   "cell_type": "code",
   "execution_count": null,
   "metadata": {
    "colab": {
     "autoexec": {
      "startup": false,
      "wait_interval": 0
     },
     "base_uri": "https://localhost:8080/",
     "height": 51
    },
    "colab_type": "code",
    "executionInfo": {
     "elapsed": 752,
     "status": "ok",
     "timestamp": 1524416969357,
     "user": {
      "displayName": "Юрий Дмитрин",
      "photoUrl": "//lh4.googleusercontent.com/-OyXBC6FvjsM/AAAAAAAAAAI/AAAAAAAAAHQ/G_KKDlyImEA/s50-c-k-no/photo.jpg",
      "userId": "103309059520130834698"
     },
     "user_tz": -300
    },
    "id": "UL4OJuxR5sSN",
    "outputId": "a66afff6-631f-40a1-c1e8-0206b563522e"
   },
   "outputs": [],
   "source": [
    "print('Count Words in text', sum(data['CountWords']))\n",
    "print('Количество статей в корпусе:', len(data))"
   ]
  },
  {
   "cell_type": "code",
   "execution_count": null,
   "metadata": {
    "colab": {
     "autoexec": {
      "startup": false,
      "wait_interval": 0
     },
     "base_uri": "https://localhost:8080/",
     "height": 204
    },
    "colab_type": "code",
    "executionInfo": {
     "elapsed": 650,
     "status": "ok",
     "timestamp": 1524416971034,
     "user": {
      "displayName": "Юрий Дмитрин",
      "photoUrl": "//lh4.googleusercontent.com/-OyXBC6FvjsM/AAAAAAAAAAI/AAAAAAAAAHQ/G_KKDlyImEA/s50-c-k-no/photo.jpg",
      "userId": "103309059520130834698"
     },
     "user_tz": -300
    },
    "id": "lh-Y1Woh5teo",
    "outputId": "5222b3c6-1901-47c9-ca6f-cae48e1131a4"
   },
   "outputs": [],
   "source": [
    "names = data.Author.value_counts().index.values\n",
    "\n",
    "lableEnc = LabelEncoder()\n",
    "lableEnc.fit(names.ravel()) \n",
    "lables = lableEnc.transform(names).reshape((num_classes, 1))\n",
    "\n",
    "oneHotEnc = OneHotEncoder()\n",
    "oneHotEnc.fit(lables)\n",
    "\n",
    "for author in names:\n",
    "    val = lableEnc.transform([author])[0]\n",
    "    data.Author.replace(to_replace=author, value=val, inplace=True)\n",
    "\n",
    "data.head()"
   ]
  },
  {
   "cell_type": "code",
   "execution_count": null,
   "metadata": {
    "colab": {
     "autoexec": {
      "startup": false,
      "wait_interval": 0
     }
    },
    "colab_type": "code",
    "collapsed": true,
    "id": "gcIG1L4FLvtB"
   },
   "outputs": [],
   "source": [
    "def get_texts_to_matrix(texts, max_features = 0):\n",
    "    tokenizer = Tokenizer(split=\" \", lower=True)\n",
    "    if max_features != 0:\n",
    "        tokenizer = Tokenizer(split=\" \", lower=True, num_words=max_features)\n",
    "    \n",
    "    tokenizer.fit_on_texts(texts)\n",
    "    matrix_tfidf = tokenizer.texts_to_matrix(texts=texts, mode='tfidf')\n",
    "    print('Количество текстов:', matrix_tfidf.shape[0])\n",
    "    print('Количество токенов:', matrix_tfidf.shape[1])\n",
    "    return matrix_tfidf"
   ]
  },
  {
   "cell_type": "code",
   "execution_count": null,
   "metadata": {
    "colab": {
     "autoexec": {
      "startup": false,
      "wait_interval": 0
     }
    },
    "colab_type": "code",
    "collapsed": true,
    "id": "9xLWFUClLxkj"
   },
   "outputs": [],
   "source": [
    "def get_texts_to_sequences(text):\n",
    "    tokenizer = Tokenizer(split=\" \", lower=True)\n",
    "    tokenizer.fit_on_texts(text)\n",
    "    text_sequences = tokenizer.texts_to_sequences(text)\n",
    "    print('В словаре {} слов'.format(len(tokenizer.word_index)))\n",
    "    return text_sequences"
   ]
  },
  {
   "cell_type": "code",
   "execution_count": null,
   "metadata": {
    "colab": {
     "autoexec": {
      "startup": false,
      "wait_interval": 0
     }
    },
    "colab_type": "code",
    "collapsed": true,
    "id": "WsTmb9uML4Oh"
   },
   "outputs": [],
   "source": [
    "def get_texts_to_gramm_sequences(texts, n=3, lowercase=True, remove_p=False):\n",
    "    \"\"\" Convert text into character ngrams. \"\"\"\n",
    "    char_filter = '«»—!–\\\"−#$%&()*…,-./:;<=>?@[\\\\\\\\]^_`{|}~\\\\t\\\\n'\n",
    "    vectors = []\n",
    "    dict_grams = {}\n",
    "    char_index = 0\n",
    "    for text in texts:\n",
    "        if remove_p:\n",
    "            for c_filter in char_filter:\n",
    "                text = text.replace(c_filter, '')\n",
    "        if lowercase:\n",
    "            text = text.lower()\n",
    "        vector = []\n",
    "        grams_for_text = [\"\".join(j) for j in zip(*[text[i:] for i in range(n)])]\n",
    "        for gram in grams_for_text:\n",
    "            if gram in dict_grams:\n",
    "                vector.append(dict_grams[gram])\n",
    "            else:\n",
    "                dict_grams[gram] = char_index\n",
    "                vector.append(char_index)\n",
    "                char_index += 1\n",
    "        vectors.append(vector)\n",
    "    count_grams = len(dict_grams)\n",
    "    print('Количество уникальных ngrams:', count_grams)\n",
    "    return vectors, count_grams"
   ]
  },
  {
   "cell_type": "code",
   "execution_count": null,
   "metadata": {
    "colab": {
     "autoexec": {
      "startup": false,
      "wait_interval": 0
     },
     "base_uri": "https://localhost:8080/",
     "height": 34
    },
    "colab_type": "code",
    "executionInfo": {
     "elapsed": 4434,
     "status": "ok",
     "timestamp": 1524412442018,
     "user": {
      "displayName": "Юрий Дмитрин",
      "photoUrl": "//lh4.googleusercontent.com/-OyXBC6FvjsM/AAAAAAAAAAI/AAAAAAAAAHQ/G_KKDlyImEA/s50-c-k-no/photo.jpg",
      "userId": "103309059520130834698"
     },
     "user_tz": -300
    },
    "id": "7EkbkSpq8wAs",
    "outputId": "abfc44c3-58c0-476d-e75f-b76ee3896fd9"
   },
   "outputs": [],
   "source": [
    "X, count_grams = get_texts_to_gramm_sequences(data['Text'], n=3)"
   ]
  },
  {
   "cell_type": "code",
   "execution_count": null,
   "metadata": {
    "colab": {
     "autoexec": {
      "startup": false,
      "wait_interval": 0
     }
    },
    "colab_type": "code",
    "collapsed": true,
    "id": "bKETMQN1NBJX"
   },
   "outputs": [],
   "source": [
    "def print_plot_mean(x):\n",
    "    means = [len(z) for z in x]\n",
    "    plt.plot(means);"
   ]
  },
  {
   "cell_type": "code",
   "execution_count": null,
   "metadata": {
    "colab": {
     "autoexec": {
      "startup": false,
      "wait_interval": 0
     },
     "base_uri": "https://localhost:8080/",
     "height": 265
    },
    "colab_type": "code",
    "executionInfo": {
     "elapsed": 618,
     "status": "ok",
     "timestamp": 1524409037533,
     "user": {
      "displayName": "Юрий Дмитрин",
      "photoUrl": "//lh4.googleusercontent.com/-OyXBC6FvjsM/AAAAAAAAAAI/AAAAAAAAAHQ/G_KKDlyImEA/s50-c-k-no/photo.jpg",
      "userId": "103309059520130834698"
     },
     "user_tz": -300
    },
    "id": "NyWoTS-0Nbxe",
    "outputId": "8ddbae6c-3b98-438e-96ff-9be69d719da7"
   },
   "outputs": [],
   "source": [
    "print_plot_mean(X)"
   ]
  },
  {
   "cell_type": "code",
   "execution_count": null,
   "metadata": {
    "colab": {
     "autoexec": {
      "startup": false,
      "wait_interval": 0
     }
    },
    "colab_type": "code",
    "collapsed": true,
    "id": "nf2Ua5AwNO1q"
   },
   "outputs": [],
   "source": [
    "def get_X_y_for_traning(X, y, num_words):\n",
    "    X = keras.preprocessing.sequence.pad_sequences(X, maxlen=num_words)     \n",
    "    y = keras.utils.to_categorical(y, num_classes)\n",
    "    print('Размерность X:', X.shape)\n",
    "    print('Размерность y:', y.shape)\n",
    "    return X, y"
   ]
  },
  {
   "cell_type": "code",
   "execution_count": null,
   "metadata": {
    "colab": {
     "autoexec": {
      "startup": false,
      "wait_interval": 0
     },
     "base_uri": "https://localhost:8080/",
     "height": 51
    },
    "colab_type": "code",
    "executionInfo": {
     "elapsed": 1184,
     "status": "ok",
     "timestamp": 1524412447338,
     "user": {
      "displayName": "Юрий Дмитрин",
      "photoUrl": "//lh4.googleusercontent.com/-OyXBC6FvjsM/AAAAAAAAAAI/AAAAAAAAAHQ/G_KKDlyImEA/s50-c-k-no/photo.jpg",
      "userId": "103309059520130834698"
     },
     "user_tz": -300
    },
    "id": "o33S0O838_rU",
    "outputId": "3b687f5b-7806-44f4-b0a9-af74e3fe7f88"
   },
   "outputs": [],
   "source": [
    "num_words = 3000\n",
    "\n",
    "X_full, y_full = get_X_y_for_traning(X, data.Author, num_words)\n",
    "X_train, X_test, y_train, y_test = train_test_split(X_full, y_full, test_size=0.2, random_state=42)"
   ]
  },
  {
   "cell_type": "code",
   "execution_count": null,
   "metadata": {
    "colab": {
     "autoexec": {
      "startup": false,
      "wait_interval": 0
     }
    },
    "colab_type": "code",
    "collapsed": true,
    "id": "krJtC6gpO3Kt"
   },
   "outputs": [],
   "source": [
    "def get_lstm_model(embeding_size):\n",
    "    model = Sequential()\n",
    "    model.add(Embedding(embeding_size, 200))\n",
    "    model.add(SpatialDropout1D(0.2))\n",
    "    model.add(LSTM(128, dropout=0.3, recurrent_dropout=0.3))\n",
    "    model.add(Dense(num_classes, activation=\"softmax\"))\n",
    "    model.compile(loss='categorical_crossentropy', optimizer='adam', metrics=['accuracy'])\n",
    "    return model"
   ]
  },
  {
   "cell_type": "code",
   "execution_count": null,
   "metadata": {
    "colab": {
     "autoexec": {
      "startup": false,
      "wait_interval": 0
     }
    },
    "colab_type": "code",
    "collapsed": true,
    "id": "qsxrwFe9PQp3"
   },
   "outputs": [],
   "source": [
    "def get_bidirectional_lstm():\n",
    "    model = Sequential()\n",
    "    model.add(Embedding(embeding_size, 200))\n",
    "    model.add(SpatialDropout1D(0.2))\n",
    "    model.add(Bidirectional(LSTM(20, dropout=0.3, recurrent_dropout=0.3)))\n",
    "    model.add(Dense(num_classes, activation=\"softmax\"))\n",
    "    model.compile(loss='categorical_crossentropy', optimizer='adam', metrics=['accuracy'])\n",
    "    return model"
   ]
  },
  {
   "cell_type": "code",
   "execution_count": null,
   "metadata": {
    "colab": {
     "autoexec": {
      "startup": false,
      "wait_interval": 0
     }
    },
    "colab_type": "code",
    "collapsed": true,
    "id": "cPV-FXiYPTFr"
   },
   "outputs": [],
   "source": [
    "def get_conv_conv_model(embeding_size):\n",
    "    model = Sequential()\n",
    "    model.add(Embedding(embeding_size, 200))\n",
    "    model.add(SpatialDropout1D(0.2))\n",
    "    model.add(Conv1D(filters=512, kernel_size=3, activation='relu'))\n",
    "    model.add(MaxPooling1D())\n",
    "    model.add(Conv1D(filters=512, kernel_size=3, activation='relu'))\n",
    "    model.add(GlobalMaxPooling1D())\n",
    "    model.add(Dense(num_classes, activation=\"softmax\"))\n",
    "    model.compile(loss='categorical_crossentropy', optimizer='adam', metrics=['accuracy'])\n",
    "    return model"
   ]
  },
  {
   "cell_type": "code",
   "execution_count": null,
   "metadata": {
    "colab": {
     "autoexec": {
      "startup": false,
      "wait_interval": 0
     }
    },
    "colab_type": "code",
    "collapsed": true,
    "id": "lp0ZBc8SPViv"
   },
   "outputs": [],
   "source": [
    "def get_conv_lstm_model(embeding_size):\n",
    "    model = Sequential()\n",
    "    model.add(Embedding(embeding_size, 200))\n",
    "    model.add(SpatialDropout1D(0.3))\n",
    "    model.add(Conv1D(filters=512, kernel_size=3, activation='relu'))\n",
    "    model.add(MaxPooling1D())\n",
    "    model.add(LSTM(128, dropout=0.3, recurrent_dropout=0.3))\n",
    "    model.add(Dense(num_classes, activation=\"softmax\"))\n",
    "    model.compile(loss='categorical_crossentropy', optimizer='adam', metrics=['accuracy'])\n",
    "    return model"
   ]
  },
  {
   "cell_type": "code",
   "execution_count": null,
   "metadata": {
    "colab": {
     "autoexec": {
      "startup": false,
      "wait_interval": 0
     }
    },
    "colab_type": "code",
    "collapsed": true,
    "id": "UWXM3PdMPX8X"
   },
   "outputs": [],
   "source": [
    "def get_lstm_conv_model(embeding_size):\n",
    "    model = Sequential()\n",
    "    model.add(Embedding(embeding_size, 200))\n",
    "    model.add(SpatialDropout1D(0.2))\n",
    "    model.add(LSTM(128, dropout=0.3, recurrent_dropout=0.3, return_sequences=True))\n",
    "    model.add(Conv1D(filters=512, kernel_size=3, activation='sigmoid'))\n",
    "    model.add(GlobalMaxPooling1D())\n",
    "    model.add(Dense(num_classes, activation=\"softmax\"))\n",
    "    model.compile(loss='categorical_crossentropy', optimizer='adam', metrics=['accuracy'])\n",
    "    return model"
   ]
  },
  {
   "cell_type": "code",
   "execution_count": null,
   "metadata": {
    "colab": {
     "autoexec": {
      "startup": false,
      "wait_interval": 0
     }
    },
    "colab_type": "code",
    "collapsed": true,
    "id": "ogK-PCzdPaEx"
   },
   "outputs": [],
   "source": [
    "def get_conv_model(embeding_size):\n",
    "    model = Sequential()\n",
    "    model.add(Embedding(embeding_size, 200))\n",
    "    model.add(SpatialDropout1D(0.2))\n",
    "    model.add(Conv1D(filters=512, kernel_size=3, activation='relu'))\n",
    "    model.add(GlobalMaxPooling1D())\n",
    "    model.add(Dense(num_classes, activation=\"softmax\"))\n",
    "    model.compile(loss='categorical_crossentropy', optimizer='adam', metrics=['accuracy'])\n",
    "    return model"
   ]
  },
  {
   "cell_type": "code",
   "execution_count": null,
   "metadata": {
    "colab": {
     "autoexec": {
      "startup": false,
      "wait_interval": 0
     }
    },
    "colab_type": "code",
    "collapsed": true,
    "id": "D7liwwfq9ORK"
   },
   "outputs": [],
   "source": [
    "def get_dense_model(embeding_size):\n",
    "    model = Sequential()\n",
    "    model.add(Embedding(embeding_size, 200, input_shape=(3000,)))\n",
    "    model.add(SpatialDropout1D(0.2))\n",
    "    model.add(Flatten())\n",
    "    model.add(Dense(200, activation='relu'))\n",
    "    model.add(Dropout (0.2))\n",
    "    model.add(Dense(200, activation='relu'))\n",
    "    model.add(Dropout (0.2))\n",
    "    model.add(Dense(200, activation='relu'))\n",
    "    model.add(Dropout (0.2))\n",
    "    model.add(Dense(num_classes, activation=\"softmax\"))\n",
    "    model.compile(loss='categorical_crossentropy', optimizer='adam', metrics=['accuracy'])\n",
    "    return model"
   ]
  },
  {
   "cell_type": "code",
   "execution_count": null,
   "metadata": {
    "colab": {
     "autoexec": {
      "startup": false,
      "wait_interval": 0
     },
     "base_uri": "https://localhost:8080/",
     "height": 853
    },
    "colab_type": "code",
    "executionInfo": {
     "elapsed": 601945,
     "status": "ok",
     "timestamp": 1524413770002,
     "user": {
      "displayName": "Юрий Дмитрин",
      "photoUrl": "//lh4.googleusercontent.com/-OyXBC6FvjsM/AAAAAAAAAAI/AAAAAAAAAHQ/G_KKDlyImEA/s50-c-k-no/photo.jpg",
      "userId": "103309059520130834698"
     },
     "user_tz": -300
    },
    "id": "EQm7yWa99ukx",
    "outputId": "1762f553-4afb-4020-9e32-eeee09d27657"
   },
   "outputs": [],
   "source": [
    "model = get_conv_model(count_grams)\n",
    "model.summary()\n",
    "\n",
    "BATCH_SIZE = 32\n",
    "EPOCHS = 10\n",
    "VERBOSE = 2\n",
    "\n",
    "model.fit(X_train, y_train, batch_size=BATCH_SIZE, epochs=EPOCHS, \n",
    "          verbose=VERBOSE, validation_data=(X_test, y_test))"
   ]
  }
 ],
 "metadata": {
  "accelerator": "GPU",
  "colab": {
   "collapsed_sections": [],
   "default_view": {},
   "name": "DetectedAuthorVK.ipynb",
   "provenance": [],
   "version": "0.3.2",
   "views": {}
  },
  "kernelspec": {
   "display_name": "Python 3",
   "language": "python",
   "name": "python3"
  },
  "language_info": {
   "codemirror_mode": {
    "name": "ipython",
    "version": 3
   },
   "file_extension": ".py",
   "mimetype": "text/x-python",
   "name": "python",
   "nbconvert_exporter": "python",
   "pygments_lexer": "ipython3",
   "version": "3.6.0"
  }
 },
 "nbformat": 4,
 "nbformat_minor": 1
}
